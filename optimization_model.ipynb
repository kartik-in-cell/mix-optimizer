{
 "cells": [
  {
   "cell_type": "code",
   "execution_count": 4,
   "id": "bd248284-b1c5-4ddc-95ee-7e0dbcfeb480",
   "metadata": {},
   "outputs": [
    {
     "name": "stdout",
     "output_type": "stream",
     "text": [
      "Collecting pulp\n",
      "  Downloading pulp-3.1.1-py3-none-any.whl.metadata (1.3 kB)\n",
      "Downloading pulp-3.1.1-py3-none-any.whl (16.4 MB)\n",
      "\u001b[2K   \u001b[90m━━━━━━━━━━━━━━━━━━━━━━━━━━━━━━━━━━━━━━━━\u001b[0m \u001b[32m16.4/16.4 MB\u001b[0m \u001b[31m2.2 MB/s\u001b[0m eta \u001b[36m0:00:00\u001b[0m00:01\u001b[0m00:01\u001b[0m\n",
      "\u001b[?25hInstalling collected packages: pulp\n",
      "Successfully installed pulp-3.1.1\n",
      "Note: you may need to restart the kernel to use updated packages.\n"
     ]
    }
   ],
   "source": [
    "pip install pulp\n"
   ]
  },
  {
   "cell_type": "code",
   "execution_count": 5,
   "id": "09ab1e3d-15ed-4664-9c9c-b988fbf951ba",
   "metadata": {},
   "outputs": [
    {
     "name": "stdout",
     "output_type": "stream",
     "text": [
      "PuLP imported successfully!\n"
     ]
    }
   ],
   "source": [
    "import pulp\n",
    "print(\"PuLP imported successfully!\")"
   ]
  },
  {
   "cell_type": "code",
   "execution_count": 6,
   "id": "88666cfd-5626-43c0-9e0a-4cd09baf9b50",
   "metadata": {},
   "outputs": [],
   "source": [
    "# Optimization using Linear Programming (PuLP)\n",
    "\n",
    "from pulp import LpMaximize, LpProblem, LpVariable, value\n"
   ]
  },
  {
   "cell_type": "code",
   "execution_count": 7,
   "id": "dacf3ca9-0b4e-4b97-a1b7-8745d80ebe40",
   "metadata": {},
   "outputs": [],
   "source": [
    "# Define the problem\n",
    "model = LpProblem(name=\"product-mix\", sense=LpMaximize)"
   ]
  },
  {
   "cell_type": "code",
   "execution_count": 8,
   "id": "8a8e7e8c-5bc8-4018-b9e5-30fe50cbdb56",
   "metadata": {},
   "outputs": [],
   "source": [
    "# Define variables\n",
    "x = LpVariable(name=\"Product_A\", lowBound=0, cat='Continuous')\n",
    "y = LpVariable(name=\"Product_B\", lowBound=0, cat='Continuous')"
   ]
  },
  {
   "cell_type": "code",
   "execution_count": 9,
   "id": "7758b5a3-7bf2-4026-a130-f47ae8701f20",
   "metadata": {},
   "outputs": [],
   "source": [
    "# Objective Function: Maximize Profit\n",
    "model += 30 * x + 40 * y, \"Total_Profit\""
   ]
  },
  {
   "cell_type": "code",
   "execution_count": 10,
   "id": "b8123ab6-b719-4170-9e13-02d99ae21b37",
   "metadata": {},
   "outputs": [],
   "source": [
    "# Constraints\n",
    "model += 3 * x + 4 * y <= 240, \"Machine_1_Time\"\n",
    "model += 2 * x + 3 * y <= 180, \"Machine_2_Time\""
   ]
  },
  {
   "cell_type": "code",
   "execution_count": 11,
   "id": "980ee482-0a38-46f5-ba87-c11494249663",
   "metadata": {},
   "outputs": [
    {
     "name": "stdout",
     "output_type": "stream",
     "text": [
      "Welcome to the CBC MILP Solver \n",
      "Version: 2.10.3 \n",
      "Build Date: Dec 15 2019 \n",
      "\n",
      "command line - /opt/anaconda3/lib/python3.11/site-packages/pulp/apis/../solverdir/cbc/osx/i64/cbc /var/folders/pz/nb4szhvd77s5q39wl46l_rpm0000gn/T/5afd30069b53473d8226edefe57cfa1c-pulp.mps -max -timeMode elapsed -branch -printingOptions all -solution /var/folders/pz/nb4szhvd77s5q39wl46l_rpm0000gn/T/5afd30069b53473d8226edefe57cfa1c-pulp.sol (default strategy 1)\n",
      "At line 2 NAME          MODEL\n",
      "At line 3 ROWS\n",
      "At line 7 COLUMNS\n",
      "At line 14 RHS\n",
      "At line 17 BOUNDS\n",
      "At line 18 ENDATA\n",
      "Problem MODEL has 2 rows, 2 columns and 4 elements\n",
      "Coin0008I MODEL read with 0 errors\n",
      "Option for timeMode changed from cpu to elapsed\n",
      "Presolve 2 (0) rows, 2 (0) columns and 4 (0) elements\n",
      "0  Obj -0 Dual inf 80 (2)\n",
      "0  Obj -0 Dual inf 80 (2)\n",
      "2  Obj 2400\n",
      "Optimal - objective value 2400\n",
      "Optimal objective 2400 - 2 iterations time 0.002\n",
      "Option for printingOptions changed from normal to all\n",
      "Total time (CPU seconds):       0.00   (Wallclock seconds):       0.00\n",
      "\n"
     ]
    },
    {
     "data": {
      "text/plain": [
       "1"
      ]
     },
     "execution_count": 11,
     "metadata": {},
     "output_type": "execute_result"
    }
   ],
   "source": [
    "# Solve the problem\n",
    "model.solve()"
   ]
  },
  {
   "cell_type": "code",
   "execution_count": 12,
   "id": "1642b99c-4af4-48f6-bca3-de14797bfa18",
   "metadata": {},
   "outputs": [
    {
     "name": "stdout",
     "output_type": "stream",
     "text": [
      "Status: 1\n",
      "Optimal Units of Product A = 0.00\n",
      "Optimal Units of Product B = 60.00\n",
      "Maximum Profit = ₹2400.00\n"
     ]
    }
   ],
   "source": [
    "# Print results\n",
    "print(\"Status:\", model.status)\n",
    "print(f\"Optimal Units of Product A = {x.value():.2f}\")\n",
    "print(f\"Optimal Units of Product B = {y.value():.2f}\")\n",
    "print(f\"Maximum Profit = ₹{value(model.objective):.2f}\")"
   ]
  },
  {
   "cell_type": "code",
   "execution_count": null,
   "id": "7f395d5b-2b00-468c-a2c0-4abc35f9e7d8",
   "metadata": {},
   "outputs": [],
   "source": []
  },
  {
   "cell_type": "code",
   "execution_count": null,
   "id": "b6a33a6c-2fac-4bec-834d-40d9e01831fd",
   "metadata": {},
   "outputs": [],
   "source": []
  }
 ],
 "metadata": {
  "kernelspec": {
   "display_name": "Python 3 (ipykernel)",
   "language": "python",
   "name": "python3"
  },
  "language_info": {
   "codemirror_mode": {
    "name": "ipython",
    "version": 3
   },
   "file_extension": ".py",
   "mimetype": "text/x-python",
   "name": "python",
   "nbconvert_exporter": "python",
   "pygments_lexer": "ipython3",
   "version": "3.11.7"
  }
 },
 "nbformat": 4,
 "nbformat_minor": 5
}
